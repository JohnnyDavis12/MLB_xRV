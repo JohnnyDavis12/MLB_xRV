{
 "cells": [
  {
   "cell_type": "code",
   "execution_count": 12,
   "metadata": {},
   "outputs": [],
   "source": [
    "#importing libraries\n",
    "import pandas as pd\n",
    "import pickle\n",
    "from pandas import DataFrame, Series\n",
    "import numpy as np\n",
    "import seaborn as sns\n",
    "import statsmodels.api as sm\n",
    "import matplotlib.pyplot as plt\n",
    "import pybaseball as pyb\n",
    "from pybaseball import statcast"
   ]
  },
  {
   "cell_type": "code",
   "execution_count": 13,
   "metadata": {},
   "outputs": [],
   "source": [
    "#importing MLB Pitch Data\n",
    "df = pd.read_csv(\"/Users/johndavis/Desktop/PitchData2.csv\",low_memory=False)\n",
    "dft = pd.read_csv(\"/Users/johndavis/Desktop/FastballData.csv\",low_memory=False)"
   ]
  },
  {
   "cell_type": "code",
   "execution_count": 14,
   "metadata": {},
   "outputs": [],
   "source": [
    "#Replace all the Description values of hit_into_play values with the Events values\n",
    "df['Description'] = np.where(df['Description'] == 'hit_into_play', df['Events'], df['Description'])\n"
   ]
  },
  {
   "cell_type": "code",
   "execution_count": 15,
   "metadata": {},
   "outputs": [],
   "source": [
    "#Create Differential Break Column and Side Release Column\n",
    "df.insert(6, \"Differential Break\", df[\"Vertical Break\"] - df[\"Horizontal Break\"].abs(), True)\n",
    "df.insert(9, \"ABS Side Release\", df[\"Side Release\"].abs(), True)"
   ]
  },
  {
   "cell_type": "code",
   "execution_count": 16,
   "metadata": {},
   "outputs": [],
   "source": [
    "#Create a new dataframe with only the columns we want to use and rename the columns\n",
    "df = df[[\"Player Name\",\"Velocity\",\"Pitch Type\",\"Spin Rate\",\"Vertical Break\",\"Horizontal Break\",\"Release Height\",\"ABS Side Release\",\"Extension\",\"Description\"]]\n",
    "df.rename(columns = {'ABS Side Release':'Side Release'}, inplace = True)\n"
   ]
  },
  {
   "cell_type": "code",
   "execution_count": null,
   "metadata": {},
   "outputs": [],
   "source": [
    "#Search for all the values in the Description column that are not in the Events column\n",
    "df['Description'].value_counts()"
   ]
  },
  {
   "cell_type": "code",
   "execution_count": 19,
   "metadata": {},
   "outputs": [],
   "source": [
    "#Set Run Value for each Description\n",
    "home_run = 1.374328827219,\n",
    "triple = 1.05755624961515,\n",
    "double = 0.766083122898271,\n",
    "single = 0.467292970729251\n",
    "ball = 0.0636883289483747,\n",
    "hit_by_pitch = 0.0636883289483747,\n",
    "blocked_ball = 0.0636883289483747,\n",
    "foul = -0.0380502742575014,\n",
    "foul_tip = -0.0380502742575014,\n",
    "bunt_foul = -0.0380502742575014,\n",
    "bunt_foul_tip = -0.0380502742575014,\n",
    "called_strike = -0.065092516089806,\n",
    "swinging_strike = -0.118124935770601,\n",
    "swinging_strike_blocked = -0.118124935770601,\n",
    "force_out = -0.1955687665555,\n",
    "grounded_into_double_play = -0.1955687665555,\n",
    "fielders_choice_out = -0.1955687665555,\n",
    "fielders_choice = -0.1955687665555,\n",
    "field_out = -0.1955687665555,\n",
    "double_play = -0.1955687665555,\n",
    "Sac_fly = -0.236889645519856,\n",
    "field_error = -0.236889645519856,\n",
    "catcher_interf = -0.789788814378052\n",
    "sac_fly_double_play = -0.789788814378052\n",
    "triple_play = -0.789788814378052\n"
   ]
  },
  {
   "cell_type": "code",
   "execution_count": 20,
   "metadata": {},
   "outputs": [],
   "source": [
    "#create A new column with the Run Value for each Description\n",
    "df[\"Run Values\"] = df[\"Description\"].map({'home_run': 1.374328827219, 'triple': 1.05755624961515, 'double': 0.766083122898271, 'single': 0.467292970729251, 'ball': 0.0636883289483747, 'hit_by_pitch': 0.0636883289483747, 'blocked_ball': 0.0636883289483747, 'foul': -0.0380502742575014, 'foul_tip': -0.0380502742575014, 'bunt_foul': -0.0380502742575014, 'bunt_foul_tip': -0.0380502742575014, 'called_strike': -0.065092516089806, 'swinging_strike': -0.118124935770601, 'swinging_strike_blocked': -0.118124935770601, 'force_out': -0.1955687665555, 'grounded_into_double_play': -0.1955687665555, 'fielders_choice_out': -0.1955687665555, 'fielders_choice': -0.1955687665555, 'field_out': -0.1955687665555, 'double_play': -0.1955687665555, 'Sac_fly': -0.236889645519856, 'field_error': -0.236889645519856, 'catcher_interf': -0.789788814378052, 'sac_fly_double_play': -0.789788814378052, 'triple_play': -0.789788814378052})\n"
   ]
  },
  {
   "cell_type": "code",
   "execution_count": 21,
   "metadata": {},
   "outputs": [],
   "source": [
    "#Create a new dataframe with only the columns we want to use and rename the columns\n",
    "df = df[[\"Player Name\",\"Velocity\",\"Pitch Type\",\"Spin Rate\",\"Vertical Break\",\"Horizontal Break\",\"Release Height\",\"Side Release\",\"Extension\",\"Description\",\"Run Values\"]]"
   ]
  },
  {
   "cell_type": "code",
   "execution_count": 22,
   "metadata": {},
   "outputs": [
    {
     "data": {
      "text/html": [
       "<div>\n",
       "<style scoped>\n",
       "    .dataframe tbody tr th:only-of-type {\n",
       "        vertical-align: middle;\n",
       "    }\n",
       "\n",
       "    .dataframe tbody tr th {\n",
       "        vertical-align: top;\n",
       "    }\n",
       "\n",
       "    .dataframe thead th {\n",
       "        text-align: right;\n",
       "    }\n",
       "</style>\n",
       "<table border=\"1\" class=\"dataframe\">\n",
       "  <thead>\n",
       "    <tr style=\"text-align: right;\">\n",
       "      <th></th>\n",
       "      <th>Player Name</th>\n",
       "      <th>Velocity</th>\n",
       "      <th>Pitch Type</th>\n",
       "      <th>Spin Rate</th>\n",
       "      <th>Vertical Break</th>\n",
       "      <th>Horizontal Break</th>\n",
       "      <th>Release Height</th>\n",
       "      <th>Side Release</th>\n",
       "      <th>Extension</th>\n",
       "      <th>Description</th>\n",
       "      <th>Run Values</th>\n",
       "    </tr>\n",
       "  </thead>\n",
       "  <tbody>\n",
       "    <tr>\n",
       "      <th>0</th>\n",
       "      <td>Herget, Jimmy</td>\n",
       "      <td>74.9</td>\n",
       "      <td>CU</td>\n",
       "      <td>2695.0</td>\n",
       "      <td>4.56</td>\n",
       "      <td>18.12</td>\n",
       "      <td>4.70</td>\n",
       "      <td>2.62</td>\n",
       "      <td>4.9</td>\n",
       "      <td>swinging_strike</td>\n",
       "      <td>-0.118125</td>\n",
       "    </tr>\n",
       "    <tr>\n",
       "      <th>1</th>\n",
       "      <td>Herget, Jimmy</td>\n",
       "      <td>84.9</td>\n",
       "      <td>SL</td>\n",
       "      <td>2656.0</td>\n",
       "      <td>3.84</td>\n",
       "      <td>4.56</td>\n",
       "      <td>5.02</td>\n",
       "      <td>2.37</td>\n",
       "      <td>4.7</td>\n",
       "      <td>called_strike</td>\n",
       "      <td>-0.065093</td>\n",
       "    </tr>\n",
       "    <tr>\n",
       "      <th>2</th>\n",
       "      <td>Herget, Jimmy</td>\n",
       "      <td>86.8</td>\n",
       "      <td>CH</td>\n",
       "      <td>1693.0</td>\n",
       "      <td>-4.68</td>\n",
       "      <td>-13.68</td>\n",
       "      <td>4.99</td>\n",
       "      <td>2.18</td>\n",
       "      <td>5.0</td>\n",
       "      <td>ball</td>\n",
       "      <td>0.063688</td>\n",
       "    </tr>\n",
       "    <tr>\n",
       "      <th>3</th>\n",
       "      <td>Herget, Jimmy</td>\n",
       "      <td>85.0</td>\n",
       "      <td>SL</td>\n",
       "      <td>2564.0</td>\n",
       "      <td>4.44</td>\n",
       "      <td>4.20</td>\n",
       "      <td>5.12</td>\n",
       "      <td>2.35</td>\n",
       "      <td>4.8</td>\n",
       "      <td>called_strike</td>\n",
       "      <td>-0.065093</td>\n",
       "    </tr>\n",
       "    <tr>\n",
       "      <th>4</th>\n",
       "      <td>Herget, Jimmy</td>\n",
       "      <td>73.2</td>\n",
       "      <td>CU</td>\n",
       "      <td>2637.0</td>\n",
       "      <td>8.88</td>\n",
       "      <td>17.88</td>\n",
       "      <td>3.99</td>\n",
       "      <td>2.58</td>\n",
       "      <td>4.9</td>\n",
       "      <td>field_out</td>\n",
       "      <td>-0.195569</td>\n",
       "    </tr>\n",
       "  </tbody>\n",
       "</table>\n",
       "</div>"
      ],
      "text/plain": [
       "     Player Name  Velocity Pitch Type  Spin Rate  Vertical Break  \\\n",
       "0  Herget, Jimmy      74.9         CU     2695.0            4.56   \n",
       "1  Herget, Jimmy      84.9         SL     2656.0            3.84   \n",
       "2  Herget, Jimmy      86.8         CH     1693.0           -4.68   \n",
       "3  Herget, Jimmy      85.0         SL     2564.0            4.44   \n",
       "4  Herget, Jimmy      73.2         CU     2637.0            8.88   \n",
       "\n",
       "   Horizontal Break  Release Height  Side Release  Extension      Description  \\\n",
       "0             18.12            4.70          2.62        4.9  swinging_strike   \n",
       "1              4.56            5.02          2.37        4.7    called_strike   \n",
       "2            -13.68            4.99          2.18        5.0             ball   \n",
       "3              4.20            5.12          2.35        4.8    called_strike   \n",
       "4             17.88            3.99          2.58        4.9        field_out   \n",
       "\n",
       "   Run Values  \n",
       "0   -0.118125  \n",
       "1   -0.065093  \n",
       "2    0.063688  \n",
       "3   -0.065093  \n",
       "4   -0.195569  "
      ]
     },
     "execution_count": 22,
     "metadata": {},
     "output_type": "execute_result"
    }
   ],
   "source": [
    "df.head(5)"
   ]
  },
  {
   "cell_type": "code",
   "execution_count": null,
   "metadata": {},
   "outputs": [],
   "source": [
    "#convert dataframe to csv\n",
    "df.to_csv('MLBRunValues.csv', index=False)"
   ]
  }
 ],
 "metadata": {
  "kernelspec": {
   "display_name": "Python 3.9.13 ('base')",
   "language": "python",
   "name": "python3"
  },
  "language_info": {
   "codemirror_mode": {
    "name": "ipython",
    "version": 3
   },
   "file_extension": ".py",
   "mimetype": "text/x-python",
   "name": "python",
   "nbconvert_exporter": "python",
   "pygments_lexer": "ipython3",
   "version": "3.9.13"
  },
  "orig_nbformat": 4,
  "vscode": {
   "interpreter": {
    "hash": "ece8b02e9fc008d2bf4aaa30f9b06cdaffafe92b71d54bfc844a320ee0701ab8"
   }
  }
 },
 "nbformat": 4,
 "nbformat_minor": 2
}
