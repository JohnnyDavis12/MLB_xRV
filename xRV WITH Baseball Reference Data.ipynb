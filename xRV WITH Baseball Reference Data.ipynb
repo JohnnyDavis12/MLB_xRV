{
 "cells": [
  {
   "cell_type": "code",
   "execution_count": 164,
   "metadata": {},
   "outputs": [],
   "source": [
    "#importing libraries\n",
    "import pandas as pd\n",
    "import pickle\n",
    "from pandas import DataFrame, Series\n",
    "from sklearn.ensemble import RandomForestClassifier,RandomForestRegressor\n",
    "import numpy as np\n",
    "import seaborn as sns\n",
    "import statsmodels.api as sm\n",
    "from sklearn import linear_model, naive_bayes\n",
    "from sklearn.datasets import make_regression\n",
    "from sklearn.model_selection import train_test_split, cross_val_score\n",
    "from sklearn.naive_bayes import GaussianNB\n",
    "from sklearn.naive_bayes import MultinomialNB\n",
    "from sklearn.metrics import confusion_matrix\n",
    "from sklearn.tree import DecisionTreeRegressor\n",
    "from sklearn import svm\n",
    "from statsmodels.stats.outliers_influence import variance_inflation_factor\n",
    "import matplotlib.pyplot as plt\n",
    "from sklearn.metrics import mean_squared_error,r2_score\n",
    "import pybaseball as pyb\n",
    "from pybaseball import statcast\n",
    "import xgboost as xgb\n",
    "from xgboost import XGBRegressor, XGBClassifier\n"
   ]
  },
  {
   "cell_type": "code",
   "execution_count": 88,
   "metadata": {},
   "outputs": [],
   "source": [
    "df = pd.read_csv(\"/Users/johndavis/Desktop/MLB_RV_100.csv\",low_memory=False)"
   ]
  },
  {
   "cell_type": "code",
   "execution_count": null,
   "metadata": {},
   "outputs": [],
   "source": [
    "df.head(1)"
   ]
  },
  {
   "cell_type": "code",
   "execution_count": 90,
   "metadata": {},
   "outputs": [],
   "source": [
    "#Drop all rows with NaN values\n",
    "df = df.replace([np.inf, -np.inf], np.nan)\n",
    "df = df.dropna()\n",
    "df = df.reset_index()"
   ]
  },
  {
   "cell_type": "code",
   "execution_count": null,
   "metadata": {},
   "outputs": [],
   "source": [
    "df.head(1)"
   ]
  },
  {
   "cell_type": "code",
   "execution_count": 92,
   "metadata": {},
   "outputs": [],
   "source": [
    "#create a new dataframe with only pitches that are fastballs, sinkers and cutters\n",
    "dfb = df[(df['Pitch Type'] == 'FF') | (df['Pitch Type'] == 'FT') | (df['Pitch Type'] == 'SI') | (df['Pitch Type'] == 'FC')]"
   ]
  },
  {
   "cell_type": "code",
   "execution_count": 93,
   "metadata": {},
   "outputs": [],
   "source": [
    "#create a column for the absolute value of the horizontal break\n",
    "dfb.insert(6, \"ABS Horizontal Break\", abs(dfb[\"Horizontal Break\"]), True)"
   ]
  },
  {
   "cell_type": "code",
   "execution_count": 94,
   "metadata": {},
   "outputs": [],
   "source": [
    "#create a column for the differential between the vertical and horizontal break\n",
    "dfb.insert(7, \"Vertical - Horizontal Break\", dfb[\"Vertical Break\"] - dfb[\"Horizontal Break\"], True)"
   ]
  },
  {
   "cell_type": "code",
   "execution_count": null,
   "metadata": {},
   "outputs": [],
   "source": [
    "#rename Vertical - Horizontal Break to differential break\n",
    "dfb.rename (columns = {'Vertical - Horizontal Break':'Differential Break'}, inplace = True)"
   ]
  },
  {
   "cell_type": "code",
   "execution_count": null,
   "metadata": {},
   "outputs": [],
   "source": [
    "dfb.head(1)"
   ]
  },
  {
   "cell_type": "code",
   "execution_count": 97,
   "metadata": {},
   "outputs": [],
   "source": [
    "dfb = dfb[['Player Name','Velocity','Pitch Type','Spin Rate','Vertical Break','Horizontal Break','Differential Break','Release Height','Side Release','Extension','Run Values']]"
   ]
  },
  {
   "cell_type": "code",
   "execution_count": null,
   "metadata": {},
   "outputs": [],
   "source": [
    "dfb.head(1)\n"
   ]
  },
  {
   "cell_type": "code",
   "execution_count": 99,
   "metadata": {},
   "outputs": [],
   "source": [
    "#Rename PLAYER NAME to PITCHER And Run Values to RV\n",
    "dfb.rename (columns = {'Player Name':'PITCHER','Run Values':'RV'}, inplace = True)"
   ]
  },
  {
   "cell_type": "code",
   "execution_count": 100,
   "metadata": {},
   "outputs": [],
   "source": [
    "X = dfb[['Velocity','Spin Rate','Vertical Break', 'Horizontal Break','Differential Break','Release Height','Side Release','Extension']]\n",
    "y = dfb['RV'] "
   ]
  },
  {
   "cell_type": "code",
   "execution_count": 101,
   "metadata": {},
   "outputs": [],
   "source": [
    "#Split data into training and testing sets\n",
    "train_test_split(X,y,test_size=0.2)\n",
    "X_train, X_test, y_train, y_test = train_test_split(X, y, test_size=0.2, random_state=0)"
   ]
  },
  {
   "cell_type": "code",
   "execution_count": 17,
   "metadata": {},
   "outputs": [
    {
     "data": {
      "text/plain": [
       "RandomForestRegressor(max_depth=10, random_state=0)"
      ]
     },
     "execution_count": 17,
     "metadata": {},
     "output_type": "execute_result"
    }
   ],
   "source": [
    "#Create a random forest regressor\n",
    "rfr = RandomForestRegressor(n_estimators=100, max_depth=10, random_state=0)\n",
    "rfr.fit(X_train, y_train)"
   ]
  },
  {
   "cell_type": "code",
   "execution_count": null,
   "metadata": {},
   "outputs": [],
   "source": [
    "#create a dataframe with the feature importances\n",
    "feature_importances = pd.DataFrame(rfr.feature_importances_, index = X_train.columns, columns=['importance']).sort_values('importance', ascending=False)\n",
    "feature_importances"
   ]
  },
  {
   "cell_type": "code",
   "execution_count": 103,
   "metadata": {},
   "outputs": [],
   "source": [
    "#create a new column in dfb with the predicted run values\n",
    "dfb['Predicted RV'] = rfr.predict(X)\n"
   ]
  },
  {
   "cell_type": "code",
   "execution_count": 104,
   "metadata": {},
   "outputs": [],
   "source": [
    "#Create a new dataframe with averages of all the values \n",
    "dfb_avg = dfb.groupby(['PITCHER']).mean().reset_index()"
   ]
  },
  {
   "cell_type": "code",
   "execution_count": 105,
   "metadata": {},
   "outputs": [],
   "source": [
    "#order the dataframe by the predicted run values lowest to highest \n",
    "dfb_avg = dfb_avg.sort_values(by=['Predicted RV'], ascending=True)"
   ]
  },
  {
   "cell_type": "code",
   "execution_count": 106,
   "metadata": {},
   "outputs": [
    {
     "data": {
      "text/html": [
       "<div>\n",
       "<style scoped>\n",
       "    .dataframe tbody tr th:only-of-type {\n",
       "        vertical-align: middle;\n",
       "    }\n",
       "\n",
       "    .dataframe tbody tr th {\n",
       "        vertical-align: top;\n",
       "    }\n",
       "\n",
       "    .dataframe thead th {\n",
       "        text-align: right;\n",
       "    }\n",
       "</style>\n",
       "<table border=\"1\" class=\"dataframe\">\n",
       "  <thead>\n",
       "    <tr style=\"text-align: right;\">\n",
       "      <th></th>\n",
       "      <th>PITCHER</th>\n",
       "      <th>Velocity</th>\n",
       "      <th>Spin Rate</th>\n",
       "      <th>Vertical Break</th>\n",
       "      <th>Horizontal Break</th>\n",
       "      <th>Differential Break</th>\n",
       "      <th>Release Height</th>\n",
       "      <th>Side Release</th>\n",
       "      <th>Extension</th>\n",
       "      <th>RV</th>\n",
       "      <th>Predicted RV</th>\n",
       "    </tr>\n",
       "  </thead>\n",
       "  <tbody>\n",
       "    <tr>\n",
       "      <th>219</th>\n",
       "      <td>Fairbanks, Pete</td>\n",
       "      <td>98.938710</td>\n",
       "      <td>2510.345622</td>\n",
       "      <td>20.527189</td>\n",
       "      <td>-0.209585</td>\n",
       "      <td>20.736774</td>\n",
       "      <td>6.986406</td>\n",
       "      <td>0.273502</td>\n",
       "      <td>6.617972</td>\n",
       "      <td>-0.014180</td>\n",
       "      <td>-0.013816</td>\n",
       "    </tr>\n",
       "    <tr>\n",
       "      <th>377</th>\n",
       "      <td>Karinchak, James</td>\n",
       "      <td>95.219474</td>\n",
       "      <td>2354.389474</td>\n",
       "      <td>20.709158</td>\n",
       "      <td>-2.007158</td>\n",
       "      <td>22.716316</td>\n",
       "      <td>6.712158</td>\n",
       "      <td>0.200421</td>\n",
       "      <td>6.064474</td>\n",
       "      <td>-0.012326</td>\n",
       "      <td>-0.010473</td>\n",
       "    </tr>\n",
       "    <tr>\n",
       "      <th>282</th>\n",
       "      <td>Glasnow, Tyler</td>\n",
       "      <td>98.052000</td>\n",
       "      <td>2476.880000</td>\n",
       "      <td>19.612800</td>\n",
       "      <td>-2.073600</td>\n",
       "      <td>21.686400</td>\n",
       "      <td>6.236400</td>\n",
       "      <td>1.677600</td>\n",
       "      <td>7.336000</td>\n",
       "      <td>0.041538</td>\n",
       "      <td>-0.007887</td>\n",
       "    </tr>\n",
       "    <tr>\n",
       "      <th>488</th>\n",
       "      <td>Means, John</td>\n",
       "      <td>91.980723</td>\n",
       "      <td>2414.048193</td>\n",
       "      <td>20.489639</td>\n",
       "      <td>8.239518</td>\n",
       "      <td>12.250120</td>\n",
       "      <td>6.561687</td>\n",
       "      <td>0.899639</td>\n",
       "      <td>6.091566</td>\n",
       "      <td>-0.002592</td>\n",
       "      <td>-0.006128</td>\n",
       "    </tr>\n",
       "    <tr>\n",
       "      <th>232</th>\n",
       "      <td>Feyereisen, J.P.</td>\n",
       "      <td>92.241176</td>\n",
       "      <td>2345.130719</td>\n",
       "      <td>20.205490</td>\n",
       "      <td>-3.914510</td>\n",
       "      <td>24.120000</td>\n",
       "      <td>6.508562</td>\n",
       "      <td>0.247124</td>\n",
       "      <td>5.836601</td>\n",
       "      <td>-0.047469</td>\n",
       "      <td>-0.006114</td>\n",
       "    </tr>\n",
       "  </tbody>\n",
       "</table>\n",
       "</div>"
      ],
      "text/plain": [
       "              PITCHER   Velocity    Spin Rate  Vertical Break  \\\n",
       "219   Fairbanks, Pete  98.938710  2510.345622       20.527189   \n",
       "377  Karinchak, James  95.219474  2354.389474       20.709158   \n",
       "282    Glasnow, Tyler  98.052000  2476.880000       19.612800   \n",
       "488       Means, John  91.980723  2414.048193       20.489639   \n",
       "232  Feyereisen, J.P.  92.241176  2345.130719       20.205490   \n",
       "\n",
       "     Horizontal Break  Differential Break  Release Height  Side Release  \\\n",
       "219         -0.209585           20.736774        6.986406      0.273502   \n",
       "377         -2.007158           22.716316        6.712158      0.200421   \n",
       "282         -2.073600           21.686400        6.236400      1.677600   \n",
       "488          8.239518           12.250120        6.561687      0.899639   \n",
       "232         -3.914510           24.120000        6.508562      0.247124   \n",
       "\n",
       "     Extension        RV  Predicted RV  \n",
       "219   6.617972 -0.014180     -0.013816  \n",
       "377   6.064474 -0.012326     -0.010473  \n",
       "282   7.336000  0.041538     -0.007887  \n",
       "488   6.091566 -0.002592     -0.006128  \n",
       "232   5.836601 -0.047469     -0.006114  "
      ]
     },
     "execution_count": 106,
     "metadata": {},
     "output_type": "execute_result"
    }
   ],
   "source": [
    "#check the dataframe\n",
    "dfb_avg.head(5)"
   ]
  },
  {
   "cell_type": "code",
   "execution_count": 107,
   "metadata": {},
   "outputs": [],
   "source": [
    "#Edit The Pitcher Names so First name is first and last name is last\n",
    "dfb_avg['PITCHER'] = dfb_avg['PITCHER'].str.split(' ', expand=True)[1] + ' ' + dfb_avg['PITCHER'].str.split(' ', expand=True)[0]"
   ]
  },
  {
   "cell_type": "code",
   "execution_count": 108,
   "metadata": {},
   "outputs": [],
   "source": [
    "#Remove the comma from the last name\n",
    "dfb_avg = dfb_avg.replace(',','', regex=True)"
   ]
  },
  {
   "cell_type": "code",
   "execution_count": 109,
   "metadata": {},
   "outputs": [],
   "source": [
    "#create a new column with predicted run value times 100 called xRV/100\n",
    "dfb_avg['xRV/100'] = dfb_avg['Predicted RV'] * 100"
   ]
  },
  {
   "cell_type": "code",
   "execution_count": 110,
   "metadata": {},
   "outputs": [],
   "source": [
    "#reset the index\n",
    "dfb_avg = dfb_avg.reset_index()"
   ]
  },
  {
   "cell_type": "code",
   "execution_count": 111,
   "metadata": {},
   "outputs": [],
   "source": [
    "#drop the index column\n",
    "dfb_avg = dfb_avg.drop(['index'], axis=1)"
   ]
  },
  {
   "cell_type": "code",
   "execution_count": null,
   "metadata": {},
   "outputs": [],
   "source": [
    "dfb_avg = dfb_avg[['PITCHER','Velocity','Spin Rate','Vertical Break','Horizontal Break','xRV/100']]\n",
    "dfb_avg.head(5)"
   ]
  },
  {
   "cell_type": "code",
   "execution_count": 113,
   "metadata": {},
   "outputs": [],
   "source": [
    "#Edit Horizontal Break to be absolute value of horizontal break\n",
    "dfb_avg['Horizontal Break'] = abs(dfb_avg['Horizontal Break'])"
   ]
  },
  {
   "cell_type": "code",
   "execution_count": 114,
   "metadata": {},
   "outputs": [
    {
     "data": {
      "text/html": [
       "<div>\n",
       "<style scoped>\n",
       "    .dataframe tbody tr th:only-of-type {\n",
       "        vertical-align: middle;\n",
       "    }\n",
       "\n",
       "    .dataframe tbody tr th {\n",
       "        vertical-align: top;\n",
       "    }\n",
       "\n",
       "    .dataframe thead th {\n",
       "        text-align: right;\n",
       "    }\n",
       "</style>\n",
       "<table border=\"1\" class=\"dataframe\">\n",
       "  <thead>\n",
       "    <tr style=\"text-align: right;\">\n",
       "      <th></th>\n",
       "      <th>PITCHER</th>\n",
       "      <th>Velocity</th>\n",
       "      <th>Spin Rate</th>\n",
       "      <th>Vertical Break</th>\n",
       "      <th>Horizontal Break</th>\n",
       "      <th>xRV/100</th>\n",
       "    </tr>\n",
       "  </thead>\n",
       "  <tbody>\n",
       "    <tr>\n",
       "      <th>0</th>\n",
       "      <td>Pete Fairbanks</td>\n",
       "      <td>98.938710</td>\n",
       "      <td>2510.345622</td>\n",
       "      <td>20.527189</td>\n",
       "      <td>0.209585</td>\n",
       "      <td>-1.381639</td>\n",
       "    </tr>\n",
       "    <tr>\n",
       "      <th>1</th>\n",
       "      <td>James Karinchak</td>\n",
       "      <td>95.219474</td>\n",
       "      <td>2354.389474</td>\n",
       "      <td>20.709158</td>\n",
       "      <td>2.007158</td>\n",
       "      <td>-1.047280</td>\n",
       "    </tr>\n",
       "    <tr>\n",
       "      <th>2</th>\n",
       "      <td>Tyler Glasnow</td>\n",
       "      <td>98.052000</td>\n",
       "      <td>2476.880000</td>\n",
       "      <td>19.612800</td>\n",
       "      <td>2.073600</td>\n",
       "      <td>-0.788680</td>\n",
       "    </tr>\n",
       "    <tr>\n",
       "      <th>3</th>\n",
       "      <td>John Means</td>\n",
       "      <td>91.980723</td>\n",
       "      <td>2414.048193</td>\n",
       "      <td>20.489639</td>\n",
       "      <td>8.239518</td>\n",
       "      <td>-0.612757</td>\n",
       "    </tr>\n",
       "    <tr>\n",
       "      <th>4</th>\n",
       "      <td>J.P. Feyereisen</td>\n",
       "      <td>92.241176</td>\n",
       "      <td>2345.130719</td>\n",
       "      <td>20.205490</td>\n",
       "      <td>3.914510</td>\n",
       "      <td>-0.611380</td>\n",
       "    </tr>\n",
       "  </tbody>\n",
       "</table>\n",
       "</div>"
      ],
      "text/plain": [
       "           PITCHER   Velocity    Spin Rate  Vertical Break  Horizontal Break  \\\n",
       "0   Pete Fairbanks  98.938710  2510.345622       20.527189          0.209585   \n",
       "1  James Karinchak  95.219474  2354.389474       20.709158          2.007158   \n",
       "2    Tyler Glasnow  98.052000  2476.880000       19.612800          2.073600   \n",
       "3       John Means  91.980723  2414.048193       20.489639          8.239518   \n",
       "4  J.P. Feyereisen  92.241176  2345.130719       20.205490          3.914510   \n",
       "\n",
       "    xRV/100  \n",
       "0 -1.381639  \n",
       "1 -1.047280  \n",
       "2 -0.788680  \n",
       "3 -0.612757  \n",
       "4 -0.611380  "
      ]
     },
     "execution_count": 114,
     "metadata": {},
     "output_type": "execute_result"
    }
   ],
   "source": [
    "dfb_avg.head(5)"
   ]
  },
  {
   "cell_type": "code",
   "execution_count": 122,
   "metadata": {},
   "outputs": [],
   "source": [
    "#add in a new column called pitch count that is the number of pitches thrown by each pitcher\n",
    "dfb_avg = dfb_avg.assign(Pitch_Count=dfb.groupby('PITCHER').size().values)"
   ]
  },
  {
   "cell_type": "code",
   "execution_count": 128,
   "metadata": {},
   "outputs": [],
   "source": [
    "#reorder the columns so pitch count is second\n",
    "dfb_avg = dfb_avg[['Pitcher','Pitch_Count','Velocity','Spin Rate','Vertical Break','Horizontal Break','xRV/100']]"
   ]
  },
  {
   "cell_type": "code",
   "execution_count": 124,
   "metadata": {},
   "outputs": [],
   "source": [
    "#change PITCHER to pitcher \n",
    "dfb_avg = dfb_avg.rename(columns={'PITCHER': 'Pitcher'})"
   ]
  },
  {
   "cell_type": "code",
   "execution_count": 125,
   "metadata": {},
   "outputs": [],
   "source": [
    "#change pitcher to Pitcher \n",
    "dfb_avg = dfb_avg.rename(columns={'pitcher': 'Pitcher'})"
   ]
  },
  {
   "cell_type": "code",
   "execution_count": null,
   "metadata": {},
   "outputs": [],
   "source": [
    "#find the mean of xRV/100\n",
    "dfb_avg['xRV/100'].mean()"
   ]
  },
  {
   "cell_type": "code",
   "execution_count": null,
   "metadata": {},
   "outputs": [],
   "source": [
    "dfb_avg.head(5)\n"
   ]
  },
  {
   "cell_type": "code",
   "execution_count": 131,
   "metadata": {},
   "outputs": [],
   "source": [
    "#import dataframe from baseball refernce with Basic Pitcher Stats\n",
    "df_baseball_ref = pd.read_csv(\"/Users/johndavis/Desktop/Basic_Stats.csv\",low_memory=False, encoding='latin-1')\n"
   ]
  },
  {
   "cell_type": "code",
   "execution_count": 132,
   "metadata": {},
   "outputs": [],
   "source": [
    "#Remove Ê FROM PITCHER NAMES AND REPLACE WITH A SPACE\n",
    "df_baseball_ref['Name'] = df_baseball_ref['Name'].str.replace('Ê', ' ')"
   ]
  },
  {
   "cell_type": "code",
   "execution_count": 133,
   "metadata": {},
   "outputs": [],
   "source": [
    "#take the average stats for each pitcher \n",
    "df_baseball_ref_avg = df_baseball_ref.groupby(['Name']).mean().reset_index()"
   ]
  },
  {
   "cell_type": "code",
   "execution_count": 134,
   "metadata": {},
   "outputs": [],
   "source": [
    "#remove asterisks from pitcher names\n",
    "df_baseball_ref_avg = df_baseball_ref_avg.replace('\\*','', regex=True)"
   ]
  },
  {
   "cell_type": "code",
   "execution_count": 135,
   "metadata": {},
   "outputs": [],
   "source": [
    "#change Name column to Pitcher\n",
    "df_baseball_ref_avg = df_baseball_ref_avg.rename(columns={'Name': 'Pitcher'})"
   ]
  },
  {
   "cell_type": "code",
   "execution_count": null,
   "metadata": {},
   "outputs": [],
   "source": [
    "df_baseball_ref_avg.head(5)"
   ]
  },
  {
   "cell_type": "code",
   "execution_count": null,
   "metadata": {},
   "outputs": [],
   "source": [
    "#add ERA from df_baseball_ref_avg to dfb_avg that corresponds to the pitcher\n",
    "dfb_avg = dfb_avg.merge(df_baseball_ref_avg[['Pitcher','ERA']], on='Pitcher', how='left')\n",
    "dfb_avg.head(10)"
   ]
  },
  {
   "cell_type": "code",
   "execution_count": 140,
   "metadata": {},
   "outputs": [],
   "source": [
    "#Reorder columns so Pitcher, Pitch_Count, Velocity, Spin Rate, Vertical Break, Horizontal Break, xRV/100, ERA\n",
    "dfb_avg = dfb_avg[['Pitcher','Pitch_Count','Velocity','Spin Rate','Vertical Break','Horizontal Break','xRV/100','ERA']]\n"
   ]
  },
  {
   "cell_type": "code",
   "execution_count": 142,
   "metadata": {},
   "outputs": [],
   "source": [
    "# get rid of pitchers with less than 100 pitches thrown\n",
    "dfb_avg = dfb_avg[dfb_avg['Pitch_Count'] > 100]"
   ]
  },
  {
   "cell_type": "code",
   "execution_count": 143,
   "metadata": {},
   "outputs": [],
   "source": [
    "#get rid of all Nan values\n",
    "dfb_avg = dfb_avg.dropna()\n",
    "dfb_avg = dfb_avg.reset_index()"
   ]
  },
  {
   "cell_type": "code",
   "execution_count": 146,
   "metadata": {},
   "outputs": [],
   "source": [
    "#add in FIP column from df_baseball_ref_avg that corresponds to the pitcher\n",
    "dfb_avg = dfb_avg.merge(df_baseball_ref_avg[['Pitcher','FIP']], on='Pitcher', how='left')\n"
   ]
  },
  {
   "cell_type": "code",
   "execution_count": 147,
   "metadata": {},
   "outputs": [],
   "source": [
    "dfb_avg = dfb_avg[['Pitcher','Pitch_Count','Velocity','Spin Rate','Vertical Break','Horizontal Break','xRV/100','ERA','FIP']]"
   ]
  },
  {
   "cell_type": "code",
   "execution_count": null,
   "metadata": {},
   "outputs": [],
   "source": [
    "dfb_avg.corr()"
   ]
  },
  {
   "cell_type": "code",
   "execution_count": null,
   "metadata": {},
   "outputs": [],
   "source": [
    "#create a heatmap of avaerage velocity and xRV/100\n",
    "g = sns.jointplot(x=\"Velocity\", y=\"xRV/100\", data=dfb_avg, kind=\"reg\", truncate=False, color=\"m\", height=7)\n",
    "g.fig.suptitle(\"Average FB Velocity vs. xRV/100\")\n",
    "g.fig.subplots_adjust(top=.9)\n",
    "\n",
    "\n"
   ]
  },
  {
   "cell_type": "code",
   "execution_count": null,
   "metadata": {},
   "outputs": [],
   "source": [
    "#create a visualation of Top 10 Pitchers with the highest xRV/100\n",
    "p = sns.barplot(x=\"xRV/100\", y=\"Pitcher\", data=dfb_avg.head(10), palette= 'deep')\n",
    "#p.set(xlabel='xRV/100', ylabel='Pitcher')\n",
    "p.set_title('Top 10 Pitchers with Top FB xRV/100')"
   ]
  }
 ],
 "metadata": {
  "kernelspec": {
   "display_name": "Python 3.9.13 ('base')",
   "language": "python",
   "name": "python3"
  },
  "language_info": {
   "codemirror_mode": {
    "name": "ipython",
    "version": 3
   },
   "file_extension": ".py",
   "mimetype": "text/x-python",
   "name": "python",
   "nbconvert_exporter": "python",
   "pygments_lexer": "ipython3",
   "version": "3.9.13"
  },
  "orig_nbformat": 4,
  "vscode": {
   "interpreter": {
    "hash": "ece8b02e9fc008d2bf4aaa30f9b06cdaffafe92b71d54bfc844a320ee0701ab8"
   }
  }
 },
 "nbformat": 4,
 "nbformat_minor": 2
}
