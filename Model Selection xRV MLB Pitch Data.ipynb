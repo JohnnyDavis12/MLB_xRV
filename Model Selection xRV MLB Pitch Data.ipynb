{
 "cells": [
  {
   "cell_type": "code",
   "execution_count": 92,
   "metadata": {},
   "outputs": [],
   "source": [
    "#importing libraries\n",
    "import pandas as pd\n",
    "import pickle\n",
    "from pandas import DataFrame, Series\n",
    "from sklearn.ensemble import RandomForestClassifier,RandomForestRegressor\n",
    "import numpy as np\n",
    "import seaborn as sns\n",
    "import statsmodels.api as sm\n",
    "from sklearn import linear_model, naive_bayes\n",
    "from sklearn.datasets import make_regression\n",
    "from sklearn.tree import DecisionTreeRegressor\n",
    "from sklearn.model_selection import train_test_split, cross_val_score\n",
    "from sklearn.naive_bayes import GaussianNB\n",
    "from sklearn.naive_bayes import MultinomialNB\n",
    "from sklearn.metrics import confusion_matrix\n",
    "from sklearn import svm\n",
    "from statsmodels.stats.outliers_influence import variance_inflation_factor\n",
    "import matplotlib.pyplot as plt\n",
    "from sklearn.metrics import mean_squared_error,r2_score\n",
    "import pybaseball as pyb\n",
    "from pybaseball import statcast\n",
    "import xgboost as xgb\n",
    "from xgboost import XGBRegressor, XGBClassifier"
   ]
  },
  {
   "cell_type": "code",
   "execution_count": 93,
   "metadata": {},
   "outputs": [],
   "source": [
    "#Import MLB Run Values\n",
    "df = pd.read_csv(\"/Users/johndavis/Desktop/MLBRunValues.csv\",low_memory=False)"
   ]
  },
  {
   "cell_type": "code",
   "execution_count": 94,
   "metadata": {},
   "outputs": [],
   "source": [
    "#Rename Pitch Type Column to pitch_type\n",
    "df.rename(columns = {'Pitch Type':'pitch_type'}, inplace = True)"
   ]
  },
  {
   "cell_type": "code",
   "execution_count": 95,
   "metadata": {},
   "outputs": [
    {
     "data": {
      "text/html": [
       "<div>\n",
       "<style scoped>\n",
       "    .dataframe tbody tr th:only-of-type {\n",
       "        vertical-align: middle;\n",
       "    }\n",
       "\n",
       "    .dataframe tbody tr th {\n",
       "        vertical-align: top;\n",
       "    }\n",
       "\n",
       "    .dataframe thead th {\n",
       "        text-align: right;\n",
       "    }\n",
       "</style>\n",
       "<table border=\"1\" class=\"dataframe\">\n",
       "  <thead>\n",
       "    <tr style=\"text-align: right;\">\n",
       "      <th></th>\n",
       "      <th>Player Name</th>\n",
       "      <th>Velocity</th>\n",
       "      <th>pitch_type</th>\n",
       "      <th>Spin Rate</th>\n",
       "      <th>Vertical Break</th>\n",
       "      <th>Horizontal Break</th>\n",
       "      <th>Release Height</th>\n",
       "      <th>Side Release</th>\n",
       "      <th>Extension</th>\n",
       "      <th>Description</th>\n",
       "      <th>Run Values</th>\n",
       "    </tr>\n",
       "  </thead>\n",
       "  <tbody>\n",
       "    <tr>\n",
       "      <th>13</th>\n",
       "      <td>Hearn, Taylor</td>\n",
       "      <td>96.2</td>\n",
       "      <td>FF</td>\n",
       "      <td>2314.0</td>\n",
       "      <td>18.12</td>\n",
       "      <td>7.68</td>\n",
       "      <td>6.23</td>\n",
       "      <td>2.99</td>\n",
       "      <td>6.3</td>\n",
       "      <td>ball</td>\n",
       "      <td>0.063688</td>\n",
       "    </tr>\n",
       "    <tr>\n",
       "      <th>14</th>\n",
       "      <td>Hearn, Taylor</td>\n",
       "      <td>96.3</td>\n",
       "      <td>FF</td>\n",
       "      <td>2377.0</td>\n",
       "      <td>16.44</td>\n",
       "      <td>9.84</td>\n",
       "      <td>6.25</td>\n",
       "      <td>2.86</td>\n",
       "      <td>6.5</td>\n",
       "      <td>foul</td>\n",
       "      <td>-0.038050</td>\n",
       "    </tr>\n",
       "    <tr>\n",
       "      <th>18</th>\n",
       "      <td>Hearn, Taylor</td>\n",
       "      <td>95.0</td>\n",
       "      <td>FF</td>\n",
       "      <td>2368.0</td>\n",
       "      <td>17.04</td>\n",
       "      <td>7.56</td>\n",
       "      <td>6.23</td>\n",
       "      <td>2.80</td>\n",
       "      <td>6.6</td>\n",
       "      <td>foul</td>\n",
       "      <td>-0.038050</td>\n",
       "    </tr>\n",
       "    <tr>\n",
       "      <th>21</th>\n",
       "      <td>Hearn, Taylor</td>\n",
       "      <td>96.5</td>\n",
       "      <td>FF</td>\n",
       "      <td>2324.0</td>\n",
       "      <td>16.20</td>\n",
       "      <td>10.56</td>\n",
       "      <td>6.20</td>\n",
       "      <td>2.85</td>\n",
       "      <td>6.3</td>\n",
       "      <td>called_strike</td>\n",
       "      <td>-0.065093</td>\n",
       "    </tr>\n",
       "    <tr>\n",
       "      <th>27</th>\n",
       "      <td>Hearn, Taylor</td>\n",
       "      <td>97.4</td>\n",
       "      <td>FF</td>\n",
       "      <td>2439.0</td>\n",
       "      <td>16.32</td>\n",
       "      <td>9.48</td>\n",
       "      <td>6.33</td>\n",
       "      <td>2.81</td>\n",
       "      <td>6.5</td>\n",
       "      <td>single</td>\n",
       "      <td>0.467293</td>\n",
       "    </tr>\n",
       "  </tbody>\n",
       "</table>\n",
       "</div>"
      ],
      "text/plain": [
       "      Player Name  Velocity pitch_type  Spin Rate  Vertical Break  \\\n",
       "13  Hearn, Taylor      96.2         FF     2314.0           18.12   \n",
       "14  Hearn, Taylor      96.3         FF     2377.0           16.44   \n",
       "18  Hearn, Taylor      95.0         FF     2368.0           17.04   \n",
       "21  Hearn, Taylor      96.5         FF     2324.0           16.20   \n",
       "27  Hearn, Taylor      97.4         FF     2439.0           16.32   \n",
       "\n",
       "    Horizontal Break  Release Height  Side Release  Extension    Description  \\\n",
       "13              7.68            6.23          2.99        6.3           ball   \n",
       "14              9.84            6.25          2.86        6.5           foul   \n",
       "18              7.56            6.23          2.80        6.6           foul   \n",
       "21             10.56            6.20          2.85        6.3  called_strike   \n",
       "27              9.48            6.33          2.81        6.5         single   \n",
       "\n",
       "    Run Values  \n",
       "13    0.063688  \n",
       "14   -0.038050  \n",
       "18   -0.038050  \n",
       "21   -0.065093  \n",
       "27    0.467293  "
      ]
     },
     "execution_count": 95,
     "metadata": {},
     "output_type": "execute_result"
    }
   ],
   "source": [
    "#create a new dataframe with only Four Seam Fastballs\n",
    "dffb = df[df.pitch_type== 'FF']\n",
    "dffb.head(5)\n"
   ]
  },
  {
   "cell_type": "code",
   "execution_count": 96,
   "metadata": {},
   "outputs": [],
   "source": [
    "#Create a new column for Differential Break\n",
    "#Create a new ordered list of the columns\n",
    "dffb.insert(6, \"Differential Break\", dffb[\"Vertical Break\"] - dffb[\"Horizontal Break\"].abs(), True)\n",
    "dffb = dffb[[\"Player Name\",\"Velocity\",\"Spin Rate\",\"Horizontal Break\", \"Vertical Break\", \"Differential Break\",\"Release Height\",\"Side Release\", \"Extension\",\"Run Values\"]]"
   ]
  },
  {
   "cell_type": "code",
   "execution_count": 97,
   "metadata": {},
   "outputs": [],
   "source": [
    "#Drop all rows with NaN values\n",
    "dffb = dffb.replace([np.inf, -np.inf], np.nan)\n",
    "dffb = dffb.dropna()\n",
    "dffb = dffb.reset_index()"
   ]
  },
  {
   "cell_type": "code",
   "execution_count": 102,
   "metadata": {},
   "outputs": [],
   "source": [
    "#Establish X and y variables\n",
    "X = dffb[[\"Velocity\",\"Differential Break\",\"Release Height\",\"Side Release\",\"Extension\"]]\n",
    "y = dffb[\"Run Values\"]"
   ]
  },
  {
   "cell_type": "code",
   "execution_count": 99,
   "metadata": {},
   "outputs": [],
   "source": [
    "#Set X variables to be used in the model\n",
    "x_variables=dffb[[\"Velocity\",\"Differential Break\",\"Release Height\",\"Side Release\",\"Extension\"]]"
   ]
  },
  {
   "cell_type": "code",
   "execution_count": 100,
   "metadata": {},
   "outputs": [],
   "source": [
    "#Check for Multicollinearity\n",
    "from re import X\n",
    "vif_data=pd.DataFrame()\n",
    "vif_data[\"feature\"] = x_variables.columns\n",
    "vif_data[\"VIF\"] = [variance_inflation_factor(x_variables.values, i) for i in range(len(x_variables.columns))]"
   ]
  },
  {
   "cell_type": "code",
   "execution_count": null,
   "metadata": {},
   "outputs": [],
   "source": [
    "#Print VIF values\n",
    "print(vif_data)"
   ]
  },
  {
   "cell_type": "code",
   "execution_count": 104,
   "metadata": {},
   "outputs": [],
   "source": [
    "#Split data into training and testing sets\n",
    "train_test_split(X,y,test_size=0.2)\n",
    "X_train, X_test, y_train, y_test = train_test_split(X, y, test_size=0.2, random_state=0)"
   ]
  },
  {
   "cell_type": "code",
   "execution_count": null,
   "metadata": {},
   "outputs": [],
   "source": [
    "#xgboost model\n",
    "model_XGB = XGBRegressor(n_estimators=100)\n",
    "model_XGB.fit(X_train, y_train)\n"
   ]
  },
  {
   "cell_type": "code",
   "execution_count": null,
   "metadata": {},
   "outputs": [],
   "source": [
    "#Random Forest Model\n",
    "model_RF = RandomForestRegressor(n_estimators=100, max_depth=10, random_state=0)\n",
    "model_RF.fit(X_train, y_train)\n"
   ]
  },
  {
   "cell_type": "code",
   "execution_count": null,
   "metadata": {},
   "outputs": [],
   "source": [
    "#Decision Tree Model\n",
    "model_DT = DecisionTreeRegressor(random_state=0)\n",
    "model_DT.fit(X_train, y_train)\n"
   ]
  },
  {
   "cell_type": "code",
   "execution_count": null,
   "metadata": {},
   "outputs": [],
   "source": [
    "#Linear Regression Model\n",
    "model_LR = linear_model.LinearRegression()\n",
    "model_LR.fit(X_train, y_train)"
   ]
  },
  {
   "cell_type": "code",
   "execution_count": 109,
   "metadata": {},
   "outputs": [],
   "source": [
    "#Predictions based on each model\n",
    "y_pred_LR = model_LR.predict(X_test)\n",
    "y_pred_RF = model_RF.predict(X_test)\n",
    "y_pred_DT = model_DT.predict(X_test)\n",
    "y_pred_XGB = model_XGB.predict(X_test)"
   ]
  },
  {
   "cell_type": "code",
   "execution_count": 110,
   "metadata": {},
   "outputs": [
    {
     "name": "stdout",
     "output_type": "stream",
     "text": [
      "Root Mean Squared Error\n",
      "Linear Regression: 0.19818852353765376\n",
      "Random Forest: 0.1983476875373093\n",
      "Decision Tree: 0.30395237095550504\n",
      "XGBoost: 0.19944324243978095\n"
     ]
    }
   ],
   "source": [
    "#Model Evaluation\n",
    "#Root Mean Squared Error\n",
    "print(\"Root Mean Squared Error\")\n",
    "print('Linear Regression:', np.sqrt(mean_squared_error(y_test, y_pred_LR)))\n",
    "print('Random Forest:', np.sqrt(mean_squared_error(y_test, y_pred_RF)))\n",
    "print('Decision Tree:', np.sqrt(mean_squared_error(y_test, y_pred_DT)))\n",
    "print('XGBoost:', np.sqrt(mean_squared_error(y_test, y_pred_XGB)))\n"
   ]
  },
  {
   "cell_type": "code",
   "execution_count": 111,
   "metadata": {},
   "outputs": [],
   "source": [
    "#insert a new column for the predicted run values with each model\n",
    "dffb.insert(11, \"Predicted Run Values LR\", model_LR.predict(X), True)\n",
    "dffb.insert(12, \"Predicted Run Values RF\", model_RF.predict(X), True)\n",
    "dffb.insert(13, \"Predicted Run Values DT\", model_DT.predict(X), True)\n",
    "dffb.insert(14, \"Predicted Run Values XGB\", model_XGB.predict(X), True)\n"
   ]
  },
  {
   "cell_type": "code",
   "execution_count": 112,
   "metadata": {},
   "outputs": [],
   "source": [
    "#Take out Columns that are not needed\n",
    "dffb = dffb[[\"Player Name\",\"Velocity\",\"Spin Rate\", \"Vertical Break\", \"Horizontal Break\",\"Release Height\",\"Side Release\",\"Extension\",\"Run Values\",\"Predicted Run Values LR\",\"Predicted Run Values RF\",\"Predicted Run Values DT\",\"Predicted Run Values XGB\"]]"
   ]
  },
  {
   "cell_type": "code",
   "execution_count": 113,
   "metadata": {},
   "outputs": [],
   "source": [
    "#Create a new column for the mean of the predicted run values\n",
    "dffb.insert(9, \"Predicted Run Values Mean\", dffb[[\"Predicted Run Values LR\",\"Predicted Run Values RF\",\"Predicted Run Values DT\",\"Predicted Run Values XGB\"]].mean(axis=1), True)\n"
   ]
  },
  {
   "cell_type": "code",
   "execution_count": 120,
   "metadata": {},
   "outputs": [],
   "source": [
    "#Reorder the columns\n",
    "dffb = dffb[[\"Player Name\",\"Velocity\",\"Spin Rate\", \"Vertical Break\", \"Horizontal Break\",\"Release Height\",\"Side Release\",\"Extension\",\"Run Values\",\"Predicted Run Values Mean\",\"Predicted Run Values LR\",\"Predicted Run Values RF\",\"Predicted Run Values DT\",\"Predicted Run Values XGB\"]]"
   ]
  },
  {
   "cell_type": "code",
   "execution_count": null,
   "metadata": {},
   "outputs": [],
   "source": [
    "#Calculate the league average expected run value on four seam fastballs\n",
    "League_Average_Expected = dffb[\"Predicted Run Values Mean\"].mean()\n",
    "print(League_Average_Expected)"
   ]
  },
  {
   "cell_type": "code",
   "execution_count": 124,
   "metadata": {},
   "outputs": [],
   "source": [
    "dffb.to_csv(\"/Users/johndavis/Desktop/MLBFOURSEAMRunValuesPredicted.csv\", index=False)"
   ]
  },
  {
   "cell_type": "code",
   "execution_count": null,
   "metadata": {},
   "outputs": [],
   "source": []
  }
 ],
 "metadata": {
  "kernelspec": {
   "display_name": "Python 3.9.13 ('base')",
   "language": "python",
   "name": "python3"
  },
  "language_info": {
   "codemirror_mode": {
    "name": "ipython",
    "version": 3
   },
   "file_extension": ".py",
   "mimetype": "text/x-python",
   "name": "python",
   "nbconvert_exporter": "python",
   "pygments_lexer": "ipython3",
   "version": "3.9.13"
  },
  "orig_nbformat": 4,
  "vscode": {
   "interpreter": {
    "hash": "ece8b02e9fc008d2bf4aaa30f9b06cdaffafe92b71d54bfc844a320ee0701ab8"
   }
  }
 },
 "nbformat": 4,
 "nbformat_minor": 2
}
