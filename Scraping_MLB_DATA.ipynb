{
 "cells": [
  {
   "cell_type": "code",
   "execution_count": 18,
   "metadata": {},
   "outputs": [],
   "source": [
    "#importing libraries\n",
    "import pandas as pd\n",
    "import pickle\n",
    "from pandas import DataFrame, Series\n",
    "import numpy as np\n",
    "import seaborn as sns\n",
    "import statsmodels.api as sm\n",
    "import matplotlib.pyplot as plt\n",
    "import pybaseball as pyb\n",
    "from pybaseball import statcast\n",
    "import xgboost as xgb"
   ]
  },
  {
   "cell_type": "code",
   "execution_count": null,
   "metadata": {},
   "outputs": [],
   "source": [
    "#reading the data from Baseball Savant\n",
    "df = statcast(start_dt='2022-04-01', end_dt='2022-09-30')\n"
   ]
  },
  {
   "cell_type": "code",
   "execution_count": null,
   "metadata": {},
   "outputs": [],
   "source": [
    "#saving the data to a csv file\n",
    "#Findins the columns in the data\n",
    "pyb.cache.enable()\n",
    "df.columns"
   ]
  },
  {
   "cell_type": "code",
   "execution_count": 20,
   "metadata": {},
   "outputs": [],
   "source": [
    "#creating a new dataframe with the columns we need\n",
    "dft = df[['player_name','pitch_type','release_speed','release_pos_x','release_pos_z','events','description','release_spin_rate','release_extension','plate_x','plate_z']]"
   ]
  },
  {
   "cell_type": "code",
   "execution_count": 21,
   "metadata": {},
   "outputs": [],
   "source": [
    "#creating a new column for the vertical and horizontal break in inches\n",
    "dft.assign(pfx_z=df['pfx_z']*12)\n",
    "dft.assign(pfx_x=df['pfx_x']*12)\n",
    "dft.insert(5, 'Vertical Break', df['pfx_z']*12)\n",
    "dft.insert(6, 'Horizontal Break', df['pfx_x']*12)\n"
   ]
  },
  {
   "cell_type": "code",
   "execution_count": null,
   "metadata": {},
   "outputs": [],
   "source": [
    "#renaming the columns to make it easier to read\n",
    "#rearranging the columns to make it easier to read\n",
    "dft.rename(columns={'player_name':'Player Name','pitch_type':'Pitch Type','release_speed':'Velocity','release_pos_x':'Side Release','release_pos_z':'Release Height','events':'Events','description':'Description','release_spin_rate':'Spin Rate','release_extension':'Extension','pfx_x':'Horizontal Break','pfx_z':'Vertical Break','plate_x':'Side Location','plate_z':'Height Location'}, inplace=True)\n",
    "dft = dft[['Player Name','Pitch Type','Velocity','Spin Rate','Vertical Break','Horizontal Break','Release Height','Side Release','Extension','Side Location','Height Location','Events','Description']]\n"
   ]
  },
  {
   "cell_type": "code",
   "execution_count": 23,
   "metadata": {},
   "outputs": [],
   "source": [
    "#set a dummy variable for swinging strikes\n",
    "dft['Swinging Strike'] = np.where(dft['Description'] == 'swinging_strike', 1, 0)\n"
   ]
  },
  {
   "cell_type": "code",
   "execution_count": 24,
   "metadata": {},
   "outputs": [],
   "source": [
    "dft.to_csv('PitchData2.csv', index=False)\n"
   ]
  },
  {
   "cell_type": "code",
   "execution_count": 12,
   "metadata": {},
   "outputs": [],
   "source": [
    "#create a seperate dataframe of only pitch type FF\n",
    "dfb = dft[dft['Pitch Type'] == 'FF']\n",
    "dfb.to_csv('FastballData.csv', index=False)"
   ]
  },
  {
   "cell_type": "code",
   "execution_count": 13,
   "metadata": {},
   "outputs": [],
   "source": [
    "#Create a seperate dataframe of only pitch type CH\n",
    "dfch = dft[dft['Pitch Type'] == 'CH']\n"
   ]
  },
  {
   "cell_type": "code",
   "execution_count": 14,
   "metadata": {},
   "outputs": [],
   "source": [
    "#Create a seperate dataframe of only pitch type CU\n",
    "dfcu = dft[dft['Pitch Type'] == 'CU']\n"
   ]
  },
  {
   "cell_type": "code",
   "execution_count": 17,
   "metadata": {},
   "outputs": [],
   "source": [
    "#Create a seperate dataframe of only pitch type SL\n",
    "dfsl = dft[dft['Pitch Type'] == 'SL']"
   ]
  }
 ],
 "metadata": {
  "kernelspec": {
   "display_name": "Python 3.9.13 ('base')",
   "language": "python",
   "name": "python3"
  },
  "language_info": {
   "codemirror_mode": {
    "name": "ipython",
    "version": 3
   },
   "file_extension": ".py",
   "mimetype": "text/x-python",
   "name": "python",
   "nbconvert_exporter": "python",
   "pygments_lexer": "ipython3",
   "version": "3.9.13"
  },
  "orig_nbformat": 4,
  "vscode": {
   "interpreter": {
    "hash": "ece8b02e9fc008d2bf4aaa30f9b06cdaffafe92b71d54bfc844a320ee0701ab8"
   }
  }
 },
 "nbformat": 4,
 "nbformat_minor": 2
}
